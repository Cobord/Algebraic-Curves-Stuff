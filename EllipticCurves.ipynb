{
 "cells": [
  {
   "cell_type": "code",
   "execution_count": 113,
   "metadata": {
    "collapsed": false
   },
   "outputs": [],
   "source": [
    "def IntegersModP(p):\n",
    "    class IntegerModP():\n",
    "        def __init__(self, n):\n",
    "            if (n is None):\n",
    "                sl\n",
    "            self.n = n % p\n",
    "            self.field = IntegerModP\n",
    "        def __add__(self, other): return IntegerModP(self.n + other.n)\n",
    "        def __sub__(self, other): return IntegerModP(self.n - other.n)\n",
    "        def __mul__(self, other): return IntegerModP(self.n * other.n)\n",
    "        def __truediv__(self, other): return self * other.inverse()\n",
    "        def __div__(self, other): return self * other.inverse()\n",
    "        def __neg__(self): return IntegerModP(-self.n)\n",
    "        def __eq__(self, other): return isinstance(other, IntegerModP) and self.n == other.n\n",
    "        def __abs__(self): return abs(self.n)\n",
    "        def __str__(self): return '%d (mod %d)' % (self.n, self.p)\n",
    "        def __repr__(self): return '%d (mod %d)' % (self.n, self.p)\n",
    "        def __pow__(self,m): return IntegerModP(self.n**m)\n",
    "        def inverse(self):\n",
    "            return IntegerModP(self.n**(self.p-2))\n",
    "    IntegerModP.p = p\n",
    "    IntegerModP.__name__ = 'F_%d' % (p)\n",
    "    return IntegerModP\n",
    "\n",
    "def MyEllipticCurve(p,myA=None,myB=None,myJ=None):\n",
    "    class EllipticCurve():\n",
    "        # Assumes x,y given as either int or IntegerModP. So if it is not an integer, assumes it is IntegerModP with correct p\n",
    "        #     this may cause a problem\n",
    "        def __init__(self,x,y,isPInf):\n",
    "            self.whichCurve=EllipticCurve\n",
    "            if (type(x)==int):\n",
    "                self.x=self.whichCurve.groundField(x)\n",
    "            else:\n",
    "                self.x=x\n",
    "            if (type(y)==int):\n",
    "                self.y=self.whichCurve.groundField(y)\n",
    "            else:\n",
    "                self.y=y\n",
    "            self.isPInf=isPInf\n",
    "        # double and add are assuming that the curve is given with A,B coefficients rather than Legendre form\n",
    "        #   does not check this. Potential problem.\n",
    "        def double(self):\n",
    "            if (self.isPInf):\n",
    "                return self\n",
    "            myGF = self.whichCurve.groundField\n",
    "            s = myGF(3)*self.x**2+myGF(self.whichCurve.myA)\n",
    "            s = s/(myGF(2)*self.y)\n",
    "            xR = s**2-myGF(2)*self.x\n",
    "            return self.whichCurve(xR,-self.y-s*(xR-self.x),False)\n",
    "        def ecAdd(self,other):\n",
    "            if (self.isPInf):\n",
    "                return other\n",
    "            elif (other.isPInf):\n",
    "                return self\n",
    "            elif (self.x==other.x):\n",
    "                if (self.y==-other.y):\n",
    "                    # put two junk numbers for x,y because it will be PInf anyway\n",
    "                    return self.whichCurve(2894,19204,True)\n",
    "                else:\n",
    "                    return self.double()\n",
    "            else:\n",
    "                s = (self.y - other.y)/(self.x-other.x)\n",
    "                xR = s**2 - self.x - other.x\n",
    "                return self.whichCurve(xR,-self.y-s*(xR-self.x),False)\n",
    "        def __str__(self):\n",
    "            return '(%s,%s, %r)' % (str(self.x),str(self.y),self.isPInf)\n",
    "        def jacobiEmbedding(self):\n",
    "            if(self.whichCurve.myJ is None):\n",
    "                return None\n",
    "            else:\n",
    "                if self.isPInf:\n",
    "                    return (self.whichCurve.groundField(0),self.whichCurve.groundField(1),self.whichCurve.groundField(1),self.whichCurve.groundField(1))\n",
    "                else:\n",
    "                    x2 = (self.x)**2\n",
    "                    x3 = self.whichCurve.groundField(2)*(self.x)\n",
    "                    jGF = self.whichCurve.groundField(self.whichCurve.myJ)\n",
    "                    return (-self.whichCurve.groundField(2)*(self.y),\n",
    "                            x2-jGF,x2+x3*jGF+jGF,\n",
    "                            x2+x3+jGF)\n",
    "    EllipticCurve.groundField=IntegersModP(p)\n",
    "    EllipticCurve.myA=myA\n",
    "    EllipticCurve.myB=myB\n",
    "    EllipticCurve.myJ=myJ\n",
    "    EllipticCurve.__name__= 'myA=%s, myB=%s, myJ=%s over %s' % (str(myA),str(myB),str(myJ),IntegersModP(p).__name__)\n",
    "    return EllipticCurve"
   ]
  },
  {
   "cell_type": "code",
   "execution_count": 114,
   "metadata": {
    "collapsed": false
   },
   "outputs": [
    {
     "name": "stdout",
     "output_type": "stream",
     "text": [
      "F_19\n",
      "14 (mod 19)\n",
      "5 (mod 19)\n",
      "5 (mod 19)\n"
     ]
    },
    {
     "data": {
      "text/plain": [
       "__main__.IntegersModP.<locals>.IntegerModP"
      ]
     },
     "execution_count": 114,
     "metadata": {},
     "output_type": "execute_result"
    }
   ],
   "source": [
    "myF19=IntegersModP(19)\n",
    "print(myF19.__name__)\n",
    "print(myF19(9)*myF19(10))\n",
    "result=pow(myF19(9),2)\n",
    "print(result)\n",
    "result=myF19(9)**2\n",
    "print(result)\n",
    "type(result)"
   ]
  },
  {
   "cell_type": "code",
   "execution_count": 117,
   "metadata": {
    "collapsed": false
   },
   "outputs": [
    {
     "name": "stdout",
     "output_type": "stream",
     "text": [
      "myA=None, myB=None, myJ=4 over F_19\n",
      "(0 (mod 19), 12 (mod 19), 14 (mod 19), 9 (mod 19))\n",
      "(0 (mod 19), 1 (mod 19), 1 (mod 19), 1 (mod 19))\n",
      "P\n",
      "(0 (mod 7),4 (mod 7), False)\n",
      "doubling\n",
      "2P\n",
      "(2 (mod 7),2 (mod 7), False)\n",
      "3 P\n",
      "(6 (mod 7),2 (mod 7), False)\n",
      "4 P\n",
      "(5 (mod 7),0 (mod 7), False)\n",
      "5 P\n",
      "(6 (mod 7),5 (mod 7), False)\n",
      "6 P\n",
      "(2 (mod 7),5 (mod 7), False)\n",
      "7 P\n",
      "(0 (mod 7),3 (mod 7), False)\n",
      "8 P\n",
      "(3 (mod 7),3 (mod 7), True)\n",
      "9 P\n",
      "(0 (mod 7),4 (mod 7), False)\n"
     ]
    }
   ],
   "source": [
    "myCurve=MyEllipticCurve(19,myJ=4)\n",
    "print(myCurve.__name__)\n",
    "point1=myCurve(4,0,False)\n",
    "result=point1.jacobiEmbedding()\n",
    "print(result)\n",
    "point1=myCurve(4,0,True)\n",
    "result=point1.jacobiEmbedding()\n",
    "print(result)\n",
    "myCurve=MyEllipticCurve(7,myA=4,myB=16)\n",
    "point1=myCurve(0,4,False)\n",
    "print('P')\n",
    "print(point1)\n",
    "point2=point1.ecAdd(point1)\n",
    "print('2P')\n",
    "print(point2)\n",
    "for i in range(7):\n",
    "    point2=point2.ecAdd(point1)\n",
    "    print('%d P' % (i+3))\n",
    "    print(point2)"
   ]
  },
  {
   "cell_type": "code",
   "execution_count": null,
   "metadata": {
    "collapsed": true
   },
   "outputs": [],
   "source": []
  }
 ],
 "metadata": {
  "kernelspec": {
   "display_name": "Python 3",
   "language": "python",
   "name": "python3"
  },
  "language_info": {
   "codemirror_mode": {
    "name": "ipython",
    "version": 3
   },
   "file_extension": ".py",
   "mimetype": "text/x-python",
   "name": "python",
   "nbconvert_exporter": "python",
   "pygments_lexer": "ipython3",
   "version": "3.6.0"
  }
 },
 "nbformat": 4,
 "nbformat_minor": 2
}
