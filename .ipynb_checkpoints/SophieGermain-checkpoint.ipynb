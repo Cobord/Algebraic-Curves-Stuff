{
 "cells": [
  {
   "cell_type": "code",
   "execution_count": 1,
   "metadata": {
    "collapsed": false
   },
   "outputs": [],
   "source": [
    "import math\n",
    "from collections import deque\n",
    "import matplotlib.pyplot as plt\n",
    "\n",
    "def isPrime(p):\n",
    "    p = abs(int(p))\n",
    "    if (p <2):\n",
    "        return False\n",
    "    elif (p==2):\n",
    "        return True\n",
    "    elif (p % 2 == 0):\n",
    "        return False\n",
    "    else:\n",
    "        return all(p % i for i in range(3,int(math.sqrt(p))+1,2))\n",
    "\n",
    "def sophieGermainPrime(p):\n",
    "    return (isPrime(p) and isPrime(2*p+1))\n",
    "\n",
    "def listSophieGermain(stop,start=2):\n",
    "    if (start==2):\n",
    "        toReturn = listSophieGermain(stop,3)\n",
    "        toReturn.appendleft(2)\n",
    "    elif (start %2 ==0):\n",
    "        toReturn = listSophieGermain(stop,start+1)\n",
    "    else:\n",
    "        toReturn = deque([i for i in range(start,stop) if sophieGermainPrime(i) ])\n",
    "    return toReturn\n",
    "\n",
    "def plotUpTo(top):\n",
    "    data = listSophieGermain(top)\n",
    "    # the histogram of the data\n",
    "    n, bins, patches = plt.hist(data)\n",
    "    plt.xlabel('Number')\n",
    "    plt.ylabel('Count of SG primes')\n",
    "    plt.show()\n",
    "    return\n",
    "\n",
    "def cunninghamChain(p):\n",
    "    if (not isPrime(p)):\n",
    "        return deque()\n",
    "    else:\n",
    "        toReturn=(cunninghamChain(2*p+1))\n",
    "        toReturn.appendleft(p)\n",
    "        return toReturn\n",
    "\n",
    "# wagstaff, proth"
   ]
  },
  {
   "cell_type": "code",
   "execution_count": 4,
   "metadata": {
    "collapsed": false
   },
   "outputs": [
    {
     "data": {
      "image/png": "[encoded data removed]",
      "text/plain": [
       "<matplotlib.figure.Figure at 0x13f1dd24e48>"
      ]
     },
     "metadata": {},
     "output_type": "display_data"
    }
   ],
   "source": [
    "plotUpTo(1000000)"
   ]
  },
  {
   "cell_type": "code",
   "execution_count": null,
   "metadata": {
    "collapsed": true
   },
   "outputs": [],
   "source": []
  }
 ],
 "metadata": {
  "kernelspec": {
   "display_name": "Python 3",
   "language": "python",
   "name": "python3"
  },
  "language_info": {
   "codemirror_mode": {
    "name": "ipython",
    "version": 3
   },
   "file_extension": ".py",
   "mimetype": "text/x-python",
   "name": "python",
   "nbconvert_exporter": "python",
   "pygments_lexer": "ipython3",
   "version": "3.6.0"
  }
 },
 "nbformat": 4,
 "nbformat_minor": 2
}
